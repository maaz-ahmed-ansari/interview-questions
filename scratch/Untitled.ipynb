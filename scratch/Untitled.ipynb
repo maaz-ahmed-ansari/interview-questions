{
 "cells": [
  {
   "cell_type": "code",
   "execution_count": 12,
   "id": "7760e96a-f5f9-48c6-a4e5-803a3fdb7d5d",
   "metadata": {},
   "outputs": [],
   "source": [
    "def myFunc(e):\n",
    "  return e['year']\n",
    "\n",
    "def myFunc2(e):\n",
    "  return e['car']\n",
    "\n",
    "cars = [\n",
    "  {'car': 'Ford', 'year': 2005},\n",
    "  {'car': 'Mitsubishi', 'year': 2000},\n",
    "  {'car': 'BMW', 'year': 2000},\n",
    "  {'car': 'Ford', 'year': 2000},\n",
    "  {'car': 'BMW', 'year': 2019},\n",
    "  {'car': 'VW', 'year': 2011}\n",
    "]\n",
    "\n",
    "cars.sort(reverse=True, key=myFunc)\n",
    "\n",
    "cars.sort(key=myFunc2)"
   ]
  },
  {
   "cell_type": "code",
   "execution_count": 13,
   "id": "5c615c9d-b02d-4175-9cf5-2c3f73ffad22",
   "metadata": {},
   "outputs": [
    {
     "name": "stdout",
     "output_type": "stream",
     "text": [
      "[{'car': 'BMW', 'year': 2019}, {'car': 'BMW', 'year': 2000}, {'car': 'Ford', 'year': 2005}, {'car': 'Ford', 'year': 2000}, {'car': 'Mitsubishi', 'year': 2000}, {'car': 'VW', 'year': 2011}]\n"
     ]
    }
   ],
   "source": [
    "print(cars)"
   ]
  },
  {
   "cell_type": "code",
   "execution_count": 14,
   "id": "c4725b14-97a3-4852-a26f-fc0cf1564f6f",
   "metadata": {},
   "outputs": [
    {
     "name": "stdout",
     "output_type": "stream",
     "text": [
      "[('BMW', 2019), ('VW', 2011), ('Ford', 2005), ('BMW', 2000), ('Ford', 2000), ('Mitsubishi', 2000)]\n"
     ]
    }
   ],
   "source": [
    "cars = [\n",
    "  ('Ford', 2005),\n",
    "  ('Mitsubishi', 2000),\n",
    "  ('BMW', 2000),\n",
    "  ('Ford', 2000),\n",
    "  ('BMW', 2019),\n",
    "  ('VW', 2011)\n",
    "]\n",
    "\n",
    "sorted_cars = sorted(cars, key=lambda x: (-x[1], x[0]))\n",
    "\n",
    "print(sorted_cars)"
   ]
  },
  {
   "cell_type": "code",
   "execution_count": 15,
   "id": "71ccec1c-8198-4318-b4d1-7bc7f8e8ba66",
   "metadata": {},
   "outputs": [
    {
     "name": "stdout",
     "output_type": "stream",
     "text": [
      "['i', 'love']\n",
      "['the', 'is', 'sunny', 'day']\n"
     ]
    }
   ],
   "source": [
    "from collections import Counter\n",
    "\n",
    "def top_k_frequent(words, k):\n",
    "    # Step 1: Count the frequency of each word\n",
    "    count = Counter(words)\n",
    "    \n",
    "    # Step 2: Sort by frequency (descending) and lexicographical order (ascending)\n",
    "    sorted_words = sorted(count.keys(), key=lambda x: (-count[x], x))\n",
    "    \n",
    "    # Step 3: Return the top k words\n",
    "    return sorted_words[:k]\n",
    "\n",
    "# Example 1\n",
    "words1 = [\"i\", \"love\", \"leetcode\", \"i\", \"love\", \"coding\"]\n",
    "k1 = 2\n",
    "print(top_k_frequent(words1, k1))  # Output: [\"i\", \"love\"]\n",
    "\n",
    "# Example 2\n",
    "words2 = [\"the\", \"day\", \"is\", \"sunny\", \"the\", \"the\", \"the\", \"sunny\", \"is\", \"is\"]\n",
    "k2 = 4\n",
    "print(top_k_frequent(words2, k2))  # Output: [\"the\", \"is\", \"sunny\", \"day\"]\n"
   ]
  },
  {
   "cell_type": "code",
   "execution_count": 21,
   "id": "49dfaf58-2bbc-4a83-9dba-8cc744cb9de8",
   "metadata": {},
   "outputs": [],
   "source": [
    "def topKFrequent(words, k):\n",
    "    \"\"\"\n",
    "    :type words: List[str]\n",
    "    :type k: int\n",
    "    :rtype: List[str]\n",
    "    \"\"\"\n",
    "    words_dict = dict()\n",
    "\n",
    "    # Map each sring along with n. of times it appear\n",
    "    for word in words:\n",
    "        if word not in words_dict:\n",
    "            words_dict[word] = 1\n",
    "        else:\n",
    "            words_dict[word] += 1\n",
    "\n",
    "    # Sort the mapped dictionary with value descending order (meaning max first)\n",
    "    # and then if same value, then by string itself lexicological ascending order \n",
    "    sorted_words = sorted(words_dict.keys(), key=lambda x: (-words_dict[x], x))\n",
    "\n",
    "    return sorted_words[:k]"
   ]
  },
  {
   "cell_type": "code",
   "execution_count": 22,
   "id": "63a090bf-2c75-4714-a2c1-22a040c37191",
   "metadata": {},
   "outputs": [
    {
     "name": "stdout",
     "output_type": "stream",
     "text": [
      "['i', 'love']\n"
     ]
    }
   ],
   "source": [
    "print(topKFrequent([\"i\",\"love\",\"leetcode\",\"i\",\"love\",\"coding\"], 2))"
   ]
  },
  {
   "cell_type": "code",
   "execution_count": 23,
   "id": "f25d0a89-e1ed-444c-b770-0638fed5991f",
   "metadata": {},
   "outputs": [
    {
     "name": "stdout",
     "output_type": "stream",
     "text": [
      "['the', 'is', 'sunny', 'day']\n"
     ]
    }
   ],
   "source": [
    "print(topKFrequent([\"the\",\"day\",\"is\",\"sunny\",\"the\",\"the\",\"the\",\"sunny\",\"is\",\"is\"], 4))"
   ]
  },
  {
   "cell_type": "code",
   "execution_count": 24,
   "id": "dd53fae8-3b2e-476b-aa2a-052806814889",
   "metadata": {},
   "outputs": [],
   "source": [
    "lst = [\"i\",\"love\",\"leetcode\",\"i\",\"love\",\"coding\"]"
   ]
  },
  {
   "cell_type": "code",
   "execution_count": 25,
   "id": "296f3746-2994-42ba-992e-13dbcb3c2eb8",
   "metadata": {},
   "outputs": [
    {
     "data": {
      "text/plain": [
       "'iloveleetcodeilovecoding'"
      ]
     },
     "execution_count": 25,
     "metadata": {},
     "output_type": "execute_result"
    }
   ],
   "source": [
    "\"\".join(lst)"
   ]
  },
  {
   "cell_type": "code",
   "execution_count": 26,
   "id": "9ec7f2d8-a6dd-4c8f-a44c-632523fec8eb",
   "metadata": {},
   "outputs": [],
   "source": [
    "def topKFrequent(words, k):\n",
    "    \"\"\"\n",
    "    :type words: List[str]\n",
    "    :type k: int\n",
    "    :rtype: List[str]\n",
    "    \"\"\"\n",
    "    words_dict = dict()\n",
    "\n",
    "    # Map each sring along with n. of times it appear\n",
    "    for word in words:\n",
    "        if word not in words_dict:\n",
    "            words_dict[word] = 1\n",
    "        else:\n",
    "            words_dict[word] += 1\n",
    "\n",
    "    # Sort the mapped dictionary with value descending order (meaning max first)\n",
    "    # and then if same value, then by string itself lexicological ascending order \n",
    "    sorted_words = sorted(words_dict.items(), key=lambda x: (-x[1], x[0]))\n",
    "\n",
    "    return sorted_words[:k]"
   ]
  },
  {
   "cell_type": "code",
   "execution_count": 27,
   "id": "3c4fd4fa-2ab2-408d-a9ff-f61d0e57a9c6",
   "metadata": {},
   "outputs": [
    {
     "name": "stdout",
     "output_type": "stream",
     "text": [
      "[('i', 2), ('love', 2)]\n"
     ]
    }
   ],
   "source": [
    "print(topKFrequent([\"i\",\"love\",\"leetcode\",\"i\",\"love\",\"coding\"], 2))"
   ]
  },
  {
   "cell_type": "code",
   "execution_count": 28,
   "id": "7d3111af-21ea-4c5e-a348-884c0a05565b",
   "metadata": {},
   "outputs": [
    {
     "data": {
      "text/plain": [
       "[2, 2]"
      ]
     },
     "execution_count": 28,
     "metadata": {},
     "output_type": "execute_result"
    }
   ],
   "source": [
    "[2] * 2"
   ]
  },
  {
   "cell_type": "code",
   "execution_count": 29,
   "id": "f34c32cd-073e-4110-9514-174265d86cfb",
   "metadata": {},
   "outputs": [
    {
     "data": {
      "text/plain": [
       "[1, 2, 2, 2]"
      ]
     },
     "execution_count": 29,
     "metadata": {},
     "output_type": "execute_result"
    }
   ],
   "source": [
    "l = [1, 2]\n",
    "l.extend([2] * 2)\n",
    "l"
   ]
  },
  {
   "cell_type": "code",
   "execution_count": 30,
   "id": "ea09f616-5230-4ef2-8ee0-a68c627e6bfa",
   "metadata": {},
   "outputs": [
    {
     "data": {
      "text/plain": [
       "[1, 2, 2, 2, [2, 2]]"
      ]
     },
     "execution_count": 30,
     "metadata": {},
     "output_type": "execute_result"
    }
   ],
   "source": [
    "l.append([2] * 2)\n",
    "l"
   ]
  },
  {
   "cell_type": "code",
   "execution_count": 32,
   "id": "4c8e3dbe-47e2-42af-9e15-2d71eaf0fdea",
   "metadata": {},
   "outputs": [
    {
     "data": {
      "text/plain": [
       "dict_values(['Ford', 2005])"
      ]
     },
     "execution_count": 32,
     "metadata": {},
     "output_type": "execute_result"
    }
   ],
   "source": [
    "car = {'car': 'Ford', 'year': 2005}\n",
    "car.values()"
   ]
  },
  {
   "cell_type": "code",
   "execution_count": 1,
   "id": "7ef34b40-4a23-4d4e-a777-e298f8205778",
   "metadata": {},
   "outputs": [
    {
     "data": {
      "text/plain": [
       "3"
      ]
     },
     "execution_count": 1,
     "metadata": {},
     "output_type": "execute_result"
    }
   ],
   "source": [
    "min(3,6)"
   ]
  },
  {
   "cell_type": "code",
   "execution_count": 12,
   "id": "413d740e-9529-4f0d-9d06-3f452a365442",
   "metadata": {},
   "outputs": [
    {
     "data": {
      "text/plain": [
       "['h', 'e', 'l', 'l', 'o']"
      ]
     },
     "execution_count": 12,
     "metadata": {},
     "output_type": "execute_result"
    }
   ],
   "source": [
    "s = \"hello\"\n",
    "s_lst = []\n",
    "for ele in s:\n",
    "    s_lst.append(ele)\n",
    "\n",
    "s_lst"
   ]
  },
  {
   "cell_type": "code",
   "execution_count": 15,
   "id": "dce622b9-3e88-4d74-9011-764f76ac7039",
   "metadata": {},
   "outputs": [
    {
     "data": {
      "text/plain": [
       "'holle'"
      ]
     },
     "execution_count": 15,
     "metadata": {},
     "output_type": "execute_result"
    }
   ],
   "source": [
    "s_lst[1], s_lst[4] = s_lst[4], s_lst[1]\n",
    "swaped = \"\".join(s_lst)\n",
    "swaped"
   ]
  },
  {
   "cell_type": "code",
   "execution_count": null,
   "id": "7cc76ce8-5d55-4f64-979c-551380b3567f",
   "metadata": {},
   "outputs": [],
   "source": []
  },
  {
   "cell_type": "code",
   "execution_count": 19,
   "id": "6a5ca564-36d3-4f5f-86e5-122dd8a4fdf5",
   "metadata": {},
   "outputs": [],
   "source": [
    "s = \"\"\"name age address\n",
    "abc 23 sssss\n",
    "kfg 45 aaaaa\"\"\""
   ]
  },
  {
   "cell_type": "code",
   "execution_count": 2,
   "id": "683777eb-5d69-4f5a-978a-4b0b0d3e6642",
   "metadata": {},
   "outputs": [],
   "source": [
    "# Output:\n",
    "# {\n",
    "#   \"name\":[\"abc\",\"kfg\"],\n",
    "#   \"age\":[23,45],\n",
    "#   \"address\":[\"sssss\", \"aaaaa\"]\n",
    "# }"
   ]
  },
  {
   "cell_type": "code",
   "execution_count": 10,
   "id": "4e4fe220-24ba-47a6-a99a-5ffdea5fe0da",
   "metadata": {},
   "outputs": [
    {
     "data": {
      "text/plain": [
       "['name age address', 'abc 23 sssss', 'kfg 45 aaaaa']"
      ]
     },
     "execution_count": 10,
     "metadata": {},
     "output_type": "execute_result"
    }
   ],
   "source": [
    "s.splitlines()"
   ]
  },
  {
   "cell_type": "code",
   "execution_count": 13,
   "id": "9e1aff1c-25e7-46a3-a56e-bfc123d9088d",
   "metadata": {},
   "outputs": [
    {
     "data": {
      "text/plain": [
       "[['name', 'age', 'address'], ['abc', '23', 'sssss'], ['kfg', '45', 'aaaaa']]"
      ]
     },
     "execution_count": 13,
     "metadata": {},
     "output_type": "execute_result"
    }
   ],
   "source": [
    "s_lst = [line.split() for line in s.splitlines()]\n",
    "s_lst"
   ]
  },
  {
   "cell_type": "code",
   "execution_count": 17,
   "id": "d86073b3-1aea-4e8b-bf1d-3e459d7f76d4",
   "metadata": {},
   "outputs": [
    {
     "name": "stdout",
     "output_type": "stream",
     "text": [
      "{'name': ['a', 'b', 'c', 'k', 'f', 'g'], 'age': ['2', '3', '4', '5'], 'address': []}\n"
     ]
    }
   ],
   "source": [
    "# header = s_lst[0]\n",
    "# print(header)\n",
    "result = dict()\n",
    "\n",
    "for item in s_lst[0]:\n",
    "    result[item] = []\n",
    "\n",
    "for line in s_lst[1:]:\n",
    "    for i in range(len(line) - 1):\n",
    "        result[header[i]].extend(line[i])\n",
    "print(result)\n",
    "    "
   ]
  },
  {
   "cell_type": "code",
   "execution_count": 18,
   "id": "3f6e2521-2ad0-44f4-b743-83bfbaed3b79",
   "metadata": {},
   "outputs": [
    {
     "ename": "TypeError",
     "evalue": "unhashable type: 'list'",
     "output_type": "error",
     "traceback": [
      "\u001b[1;31m---------------------------------------------------------------------------\u001b[0m",
      "\u001b[1;31mTypeError\u001b[0m                                 Traceback (most recent call last)",
      "Cell \u001b[1;32mIn[18], line 2\u001b[0m\n\u001b[0;32m      1\u001b[0m mapping \u001b[38;5;241m=\u001b[39m \u001b[38;5;28mdict\u001b[39m()\n\u001b[1;32m----> 2\u001b[0m \u001b[43mmapping\u001b[49m\u001b[43m[\u001b[49m\u001b[43ms_lst\u001b[49m\u001b[43m[\u001b[49m\u001b[38;5;241;43m0\u001b[39;49m\u001b[43m]\u001b[49m\u001b[43m]\u001b[49m \u001b[38;5;241m=\u001b[39m s_lst[\u001b[38;5;241m1\u001b[39m:]\n\u001b[0;32m      3\u001b[0m mapping\n",
      "\u001b[1;31mTypeError\u001b[0m: unhashable type: 'list'"
     ]
    }
   ],
   "source": [
    "mapping = dict()\n",
    "mapping[s_lst[0]] = s_lst[1:]\n",
    "mapping"
   ]
  },
  {
   "cell_type": "code",
   "execution_count": 29,
   "id": "d5f5228b-15fa-409c-b9a5-54a9065b624f",
   "metadata": {},
   "outputs": [
    {
     "data": {
      "text/plain": [
       "['name age address', 'abc 23 sssss', 'kfg 45 aaaaa']"
      ]
     },
     "execution_count": 29,
     "metadata": {},
     "output_type": "execute_result"
    }
   ],
   "source": [
    "s_lines = s.splitlines()\n",
    "s_lines"
   ]
  },
  {
   "cell_type": "code",
   "execution_count": 30,
   "id": "baa933e9-bf55-46a1-a042-2ecd84aa6c09",
   "metadata": {},
   "outputs": [
    {
     "data": {
      "text/plain": [
       "['name', 'age', 'address']"
      ]
     },
     "execution_count": 30,
     "metadata": {},
     "output_type": "execute_result"
    }
   ],
   "source": [
    "headers = s_lines[0].split()\n",
    "headers"
   ]
  },
  {
   "cell_type": "code",
   "execution_count": 31,
   "id": "83f7063b-e815-4c75-92e4-b30600dc78e9",
   "metadata": {},
   "outputs": [
    {
     "data": {
      "text/plain": [
       "{'name': [], 'age': [], 'address': []}"
      ]
     },
     "execution_count": 31,
     "metadata": {},
     "output_type": "execute_result"
    }
   ],
   "source": [
    "result = {\n",
    "    item:[] for item in headers\n",
    "}\n",
    "result"
   ]
  },
  {
   "cell_type": "code",
   "execution_count": 32,
   "id": "60bce032-9c0a-4292-af4d-b20aad27d7e3",
   "metadata": {},
   "outputs": [
    {
     "data": {
      "text/plain": [
       "{'name': ['abc', 'kfg'], 'age': [23, 45], 'address': ['sssss', 'aaaaa']}"
      ]
     },
     "execution_count": 32,
     "metadata": {},
     "output_type": "execute_result"
    }
   ],
   "source": [
    "for line in s_lines[1:]:\n",
    "    data = line.split()\n",
    "    for header, value in zip(headers, data):\n",
    "        result[header].append(value if not value.isdigit() else int(value))\n",
    "result"
   ]
  },
  {
   "cell_type": "code",
   "execution_count": null,
   "id": "d908e9d1-c8b0-4989-bfcf-c23682b1182d",
   "metadata": {},
   "outputs": [],
   "source": []
  }
 ],
 "metadata": {
  "kernelspec": {
   "display_name": "Python 3 (ipykernel)",
   "language": "python",
   "name": "python3"
  },
  "language_info": {
   "codemirror_mode": {
    "name": "ipython",
    "version": 3
   },
   "file_extension": ".py",
   "mimetype": "text/x-python",
   "name": "python",
   "nbconvert_exporter": "python",
   "pygments_lexer": "ipython3",
   "version": "3.10.11"
  }
 },
 "nbformat": 4,
 "nbformat_minor": 5
}

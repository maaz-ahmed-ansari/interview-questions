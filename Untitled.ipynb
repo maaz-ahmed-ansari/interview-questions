{
 "cells": [
  {
   "cell_type": "code",
   "execution_count": 12,
   "id": "7760e96a-f5f9-48c6-a4e5-803a3fdb7d5d",
   "metadata": {},
   "outputs": [],
   "source": [
    "def myFunc(e):\n",
    "  return e['year']\n",
    "\n",
    "def myFunc2(e):\n",
    "  return e['car']\n",
    "\n",
    "cars = [\n",
    "  {'car': 'Ford', 'year': 2005},\n",
    "  {'car': 'Mitsubishi', 'year': 2000},\n",
    "  {'car': 'BMW', 'year': 2000},\n",
    "  {'car': 'Ford', 'year': 2000},\n",
    "  {'car': 'BMW', 'year': 2019},\n",
    "  {'car': 'VW', 'year': 2011}\n",
    "]\n",
    "\n",
    "cars.sort(reverse=True, key=myFunc)\n",
    "\n",
    "cars.sort(key=myFunc2)"
   ]
  },
  {
   "cell_type": "code",
   "execution_count": 13,
   "id": "5c615c9d-b02d-4175-9cf5-2c3f73ffad22",
   "metadata": {},
   "outputs": [
    {
     "name": "stdout",
     "output_type": "stream",
     "text": [
      "[{'car': 'BMW', 'year': 2019}, {'car': 'BMW', 'year': 2000}, {'car': 'Ford', 'year': 2005}, {'car': 'Ford', 'year': 2000}, {'car': 'Mitsubishi', 'year': 2000}, {'car': 'VW', 'year': 2011}]\n"
     ]
    }
   ],
   "source": [
    "print(cars)"
   ]
  },
  {
   "cell_type": "code",
   "execution_count": 14,
   "id": "c4725b14-97a3-4852-a26f-fc0cf1564f6f",
   "metadata": {},
   "outputs": [
    {
     "name": "stdout",
     "output_type": "stream",
     "text": [
      "[('BMW', 2019), ('VW', 2011), ('Ford', 2005), ('BMW', 2000), ('Ford', 2000), ('Mitsubishi', 2000)]\n"
     ]
    }
   ],
   "source": [
    "cars = [\n",
    "  ('Ford', 2005),\n",
    "  ('Mitsubishi', 2000),\n",
    "  ('BMW', 2000),\n",
    "  ('Ford', 2000),\n",
    "  ('BMW', 2019),\n",
    "  ('VW', 2011)\n",
    "]\n",
    "\n",
    "sorted_cars = sorted(cars, key=lambda x: (-x[1], x[0]))\n",
    "\n",
    "print(sorted_cars)"
   ]
  },
  {
   "cell_type": "code",
   "execution_count": 15,
   "id": "71ccec1c-8198-4318-b4d1-7bc7f8e8ba66",
   "metadata": {},
   "outputs": [
    {
     "name": "stdout",
     "output_type": "stream",
     "text": [
      "['i', 'love']\n",
      "['the', 'is', 'sunny', 'day']\n"
     ]
    }
   ],
   "source": [
    "from collections import Counter\n",
    "\n",
    "def top_k_frequent(words, k):\n",
    "    # Step 1: Count the frequency of each word\n",
    "    count = Counter(words)\n",
    "    \n",
    "    # Step 2: Sort by frequency (descending) and lexicographical order (ascending)\n",
    "    sorted_words = sorted(count.keys(), key=lambda x: (-count[x], x))\n",
    "    \n",
    "    # Step 3: Return the top k words\n",
    "    return sorted_words[:k]\n",
    "\n",
    "# Example 1\n",
    "words1 = [\"i\", \"love\", \"leetcode\", \"i\", \"love\", \"coding\"]\n",
    "k1 = 2\n",
    "print(top_k_frequent(words1, k1))  # Output: [\"i\", \"love\"]\n",
    "\n",
    "# Example 2\n",
    "words2 = [\"the\", \"day\", \"is\", \"sunny\", \"the\", \"the\", \"the\", \"sunny\", \"is\", \"is\"]\n",
    "k2 = 4\n",
    "print(top_k_frequent(words2, k2))  # Output: [\"the\", \"is\", \"sunny\", \"day\"]\n"
   ]
  },
  {
   "cell_type": "code",
   "execution_count": 21,
   "id": "49dfaf58-2bbc-4a83-9dba-8cc744cb9de8",
   "metadata": {},
   "outputs": [],
   "source": [
    "def topKFrequent(words, k):\n",
    "    \"\"\"\n",
    "    :type words: List[str]\n",
    "    :type k: int\n",
    "    :rtype: List[str]\n",
    "    \"\"\"\n",
    "    words_dict = dict()\n",
    "\n",
    "    # Map each sring along with n. of times it appear\n",
    "    for word in words:\n",
    "        if word not in words_dict:\n",
    "            words_dict[word] = 1\n",
    "        else:\n",
    "            words_dict[word] += 1\n",
    "\n",
    "    # Sort the mapped dictionary with value descending order (meaning max first)\n",
    "    # and then if same value, then by string itself lexicological ascending order \n",
    "    sorted_words = sorted(words_dict.keys(), key=lambda x: (-words_dict[x], x))\n",
    "\n",
    "    return sorted_words[:k]"
   ]
  },
  {
   "cell_type": "code",
   "execution_count": 22,
   "id": "63a090bf-2c75-4714-a2c1-22a040c37191",
   "metadata": {},
   "outputs": [
    {
     "name": "stdout",
     "output_type": "stream",
     "text": [
      "['i', 'love']\n"
     ]
    }
   ],
   "source": [
    "print(topKFrequent([\"i\",\"love\",\"leetcode\",\"i\",\"love\",\"coding\"], 2))"
   ]
  },
  {
   "cell_type": "code",
   "execution_count": 23,
   "id": "f25d0a89-e1ed-444c-b770-0638fed5991f",
   "metadata": {},
   "outputs": [
    {
     "name": "stdout",
     "output_type": "stream",
     "text": [
      "['the', 'is', 'sunny', 'day']\n"
     ]
    }
   ],
   "source": [
    "print(topKFrequent([\"the\",\"day\",\"is\",\"sunny\",\"the\",\"the\",\"the\",\"sunny\",\"is\",\"is\"], 4))"
   ]
  },
  {
   "cell_type": "code",
   "execution_count": 24,
   "id": "dd53fae8-3b2e-476b-aa2a-052806814889",
   "metadata": {},
   "outputs": [],
   "source": [
    "lst = [\"i\",\"love\",\"leetcode\",\"i\",\"love\",\"coding\"]"
   ]
  },
  {
   "cell_type": "code",
   "execution_count": 25,
   "id": "296f3746-2994-42ba-992e-13dbcb3c2eb8",
   "metadata": {},
   "outputs": [
    {
     "data": {
      "text/plain": [
       "'iloveleetcodeilovecoding'"
      ]
     },
     "execution_count": 25,
     "metadata": {},
     "output_type": "execute_result"
    }
   ],
   "source": [
    "\"\".join(lst)"
   ]
  },
  {
   "cell_type": "code",
   "execution_count": 26,
   "id": "9ec7f2d8-a6dd-4c8f-a44c-632523fec8eb",
   "metadata": {},
   "outputs": [],
   "source": [
    "def topKFrequent(words, k):\n",
    "    \"\"\"\n",
    "    :type words: List[str]\n",
    "    :type k: int\n",
    "    :rtype: List[str]\n",
    "    \"\"\"\n",
    "    words_dict = dict()\n",
    "\n",
    "    # Map each sring along with n. of times it appear\n",
    "    for word in words:\n",
    "        if word not in words_dict:\n",
    "            words_dict[word] = 1\n",
    "        else:\n",
    "            words_dict[word] += 1\n",
    "\n",
    "    # Sort the mapped dictionary with value descending order (meaning max first)\n",
    "    # and then if same value, then by string itself lexicological ascending order \n",
    "    sorted_words = sorted(words_dict.items(), key=lambda x: (-x[1], x[0]))\n",
    "\n",
    "    return sorted_words[:k]"
   ]
  },
  {
   "cell_type": "code",
   "execution_count": 27,
   "id": "3c4fd4fa-2ab2-408d-a9ff-f61d0e57a9c6",
   "metadata": {},
   "outputs": [
    {
     "name": "stdout",
     "output_type": "stream",
     "text": [
      "[('i', 2), ('love', 2)]\n"
     ]
    }
   ],
   "source": [
    "print(topKFrequent([\"i\",\"love\",\"leetcode\",\"i\",\"love\",\"coding\"], 2))"
   ]
  },
  {
   "cell_type": "code",
   "execution_count": null,
   "id": "7d3111af-21ea-4c5e-a348-884c0a05565b",
   "metadata": {},
   "outputs": [],
   "source": []
  }
 ],
 "metadata": {
  "kernelspec": {
   "display_name": "Python 3 (ipykernel)",
   "language": "python",
   "name": "python3"
  },
  "language_info": {
   "codemirror_mode": {
    "name": "ipython",
    "version": 3
   },
   "file_extension": ".py",
   "mimetype": "text/x-python",
   "name": "python",
   "nbconvert_exporter": "python",
   "pygments_lexer": "ipython3",
   "version": "3.10.11"
  }
 },
 "nbformat": 4,
 "nbformat_minor": 5
}

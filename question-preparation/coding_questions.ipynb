{
 "cells": [
  {
   "cell_type": "code",
   "execution_count": 6,
   "id": "3d9bbec5-1ff0-4a64-ac1f-acf7db6d1736",
   "metadata": {},
   "outputs": [],
   "source": [
    "# 1. Given Two strings, find if they are anagrams of each other.\n",
    "\n",
    "# Anagrams strings:\n",
    "\n",
    "# LISTEN  <->  SILENT\n",
    "\n",
    "# TIANGLE  <->  INTEGRAL\n",
    "\n",
    "# Asked by Deloitte"
   ]
  },
  {
   "cell_type": "code",
   "execution_count": 1,
   "id": "da5d2eb4-0e93-4286-8d44-c3775be10563",
   "metadata": {},
   "outputs": [],
   "source": [
    "def is_anagram(s1, s2):\n",
    "    if len(s1) != len(s2):\n",
    "        return False\n",
    "        \n",
    "    unicode_rem = 0\n",
    "    \n",
    "    for char in s1:\n",
    "        unicode_rem += ord(char)\n",
    "\n",
    "    for char in s2:\n",
    "        unicode_rem -= ord(char)\n",
    "\n",
    "    return not unicode_rem"
   ]
  },
  {
   "cell_type": "code",
   "execution_count": 2,
   "id": "bc8ac04d-3404-4a45-a60e-338b1d834d13",
   "metadata": {},
   "outputs": [
    {
     "name": "stdout",
     "output_type": "stream",
     "text": [
      "True\n"
     ]
    }
   ],
   "source": [
    "print(is_anagram(\"LISTEN\", \"SILENT\"))"
   ]
  },
  {
   "cell_type": "code",
   "execution_count": 3,
   "id": "4d7460eb-4fc1-4b58-a383-3e8cfb346f40",
   "metadata": {},
   "outputs": [
    {
     "name": "stdout",
     "output_type": "stream",
     "text": [
      "False\n"
     ]
    }
   ],
   "source": [
    "print(is_anagram(\"LISTEN\", \"SILENCE\"))"
   ]
  },
  {
   "cell_type": "code",
   "execution_count": 4,
   "id": "84101cb3-2232-438f-8921-f2bea7d15022",
   "metadata": {},
   "outputs": [
    {
     "name": "stdout",
     "output_type": "stream",
     "text": [
      "False\n"
     ]
    }
   ],
   "source": [
    "print(is_anagram(\"LISTEN\", \"SIENT\"))"
   ]
  },
  {
   "cell_type": "code",
   "execution_count": null,
   "id": "9396fa5d-b8d2-4d17-b7c5-40048141754c",
   "metadata": {},
   "outputs": [],
   "source": []
  },
  {
   "cell_type": "code",
   "execution_count": 7,
   "id": "0a8958d8-e34e-4a8a-a074-c1614fef11fa",
   "metadata": {},
   "outputs": [],
   "source": [
    "# 2. Two Sum\n",
    "\n",
    "# Return indices of elements in list which sums up to target.\n",
    "\n",
    "# Input: [2, 7, 11, 15]\n",
    "\n",
    "# target: 9\n",
    "\n",
    "# Output: [0, 1]\n",
    "\n",
    "# Asked by Deloitte"
   ]
  },
  {
   "cell_type": "code",
   "execution_count": 4,
   "id": "3f94e4a7-533b-408e-b71a-5ff4465bf2b5",
   "metadata": {},
   "outputs": [],
   "source": [
    "def what_sums(array, target):\n",
    "    mapping = dict()\n",
    "\n",
    "    for i in range(len(array)):\n",
    "        req = target - array[i]\n",
    "\n",
    "        if req in mapping:\n",
    "            return [mapping[req], i]\n",
    "\n",
    "        mapping[array[i]] = i"
   ]
  },
  {
   "cell_type": "code",
   "execution_count": 5,
   "id": "b830dc93-d1d8-4e0a-997c-f03e7c0c3d52",
   "metadata": {},
   "outputs": [
    {
     "name": "stdout",
     "output_type": "stream",
     "text": [
      "[0, 1]\n"
     ]
    }
   ],
   "source": [
    "print(what_sums([2, 7, 11, 15], 9))"
   ]
  },
  {
   "cell_type": "code",
   "execution_count": null,
   "id": "861b8b88-2a16-4cce-bd73-7f2e4dfc30c6",
   "metadata": {},
   "outputs": [],
   "source": []
  },
  {
   "cell_type": "code",
   "execution_count": 8,
   "id": "af7dbe8a-44c3-4149-a700-d02a7e3c7936",
   "metadata": {},
   "outputs": [],
   "source": [
    "# 3. Count occurences of each character in string\n",
    "\n",
    "# Asked by Impetus, Accenture"
   ]
  },
  {
   "cell_type": "code",
   "execution_count": 12,
   "id": "42963d12-66b9-4445-871c-6c4b96ae0ce6",
   "metadata": {},
   "outputs": [],
   "source": [
    "def count_occurences(s):\n",
    "    occurences = dict()\n",
    "\n",
    "    for char in s.lower():\n",
    "        if char not in occurences:\n",
    "            occurences[char] = 1\n",
    "        else:\n",
    "            occurences[char] += 1\n",
    "\n",
    "    return occurences"
   ]
  },
  {
   "cell_type": "code",
   "execution_count": 13,
   "id": "b693fcaa-0c2a-4cf7-bb40-b7ccfd3f57c6",
   "metadata": {},
   "outputs": [
    {
     "name": "stdout",
     "output_type": "stream",
     "text": [
      "{'a': 1, 'c': 2, 'e': 2, 'n': 1, 't': 1, 'u': 1, 'r': 1}\n"
     ]
    }
   ],
   "source": [
    "print(count_occurences(\"ACcenture\"))"
   ]
  },
  {
   "cell_type": "code",
   "execution_count": 14,
   "id": "b1a7c45d-2164-4e66-a52c-1e2def68170d",
   "metadata": {},
   "outputs": [
    {
     "name": "stdout",
     "output_type": "stream",
     "text": [
      "{'i': 1, 'm': 1, 'p': 1, 'e': 1, 't': 1, 'u': 1, 's': 1}\n"
     ]
    }
   ],
   "source": [
    "print(count_occurences(\"Impetus\"))"
   ]
  },
  {
   "cell_type": "code",
   "execution_count": null,
   "id": "677f5fce-5f11-4fd5-a1aa-272b3237138b",
   "metadata": {},
   "outputs": [],
   "source": []
  },
  {
   "cell_type": "code",
   "execution_count": 15,
   "id": "ba61748b-9c77-40b4-8635-de2e3bbfbc51",
   "metadata": {},
   "outputs": [],
   "source": [
    "# 4. Merging two unsorted arrays in sorted order\n",
    "\n",
    "# Write a SortedMerge() function that takes two lists, each of which is unsorted, and merges the two together into one new list which is in sorted (increasing) order. SortedMerge() should return the new list.\n",
    "\n",
    "# Examples : \n",
    "# Input : a[] = {10, 5, 15}\n",
    "#         b[] = {20, 3, 2}\n",
    "# Output : Merge List :\n",
    "#         {2, 3, 5, 10, 15, 20}\n",
    "\n",
    "# Input : a[] = {1, 10, 5, 15}\n",
    "#         b[] = {20, 0, 2}\n",
    "# Output : Merge List :\n",
    "#         {0, 1, 2, 5, 10, 15, 20}\n",
    "# https://www.geeksforgeeks.org/merging-two-unsorted-arrays-sorted-order/\n",
    "\n",
    "# Asked by impetus "
   ]
  },
  {
   "cell_type": "code",
   "execution_count": 2,
   "id": "7c0b38f4-19e8-4d59-ab80-09581b666114",
   "metadata": {},
   "outputs": [],
   "source": [
    "def merge_and_sort(x, y):\n",
    "    map_x = dict()\n",
    "    map_y = dict()\n",
    "    result = []\n",
    "\n",
    "    for num in x:\n",
    "        if num not in map_x:\n",
    "            map_x[num] = 1\n",
    "        else:\n",
    "            map_x[num] += 1\n",
    "\n",
    "    for num in y:\n",
    "        if num not in map_y:\n",
    "            map_y[num] = 1\n",
    "        else:\n",
    "            map_y[num] += 1\n",
    "\n",
    "    for num in range(min(min(x), min(y)), max(max(x), max(y)) + 1):\n",
    "        if num in map_x:\n",
    "            result.extend([num * map_x[num]])\n",
    "\n",
    "        if num in map_y:\n",
    "            result.extend([num * map_y[num]])\n",
    "\n",
    "    return result"
   ]
  },
  {
   "cell_type": "code",
   "execution_count": 3,
   "id": "11572e33-51e4-4b19-a362-962b6e493137",
   "metadata": {},
   "outputs": [
    {
     "name": "stdout",
     "output_type": "stream",
     "text": [
      "[2, 3, 5, 10, 15, 20]\n"
     ]
    }
   ],
   "source": [
    "a = [10, 5, 15]\n",
    "b = [20, 3, 2]\n",
    "\n",
    "print(merge_and_sort(a,b))"
   ]
  },
  {
   "cell_type": "code",
   "execution_count": 4,
   "id": "04256fd4-111d-4444-ae1a-4284db8858b1",
   "metadata": {},
   "outputs": [
    {
     "name": "stdout",
     "output_type": "stream",
     "text": [
      "[-10, -2, 0, 1, 5, 15, 20]\n"
     ]
    }
   ],
   "source": [
    "a = [1, -10, 5, 15]\n",
    "b = [20, 0, -2]\n",
    "\n",
    "print(merge_and_sort(a,b))"
   ]
  },
  {
   "cell_type": "code",
   "execution_count": null,
   "id": "1537b902-0b69-435e-94ba-041da587374d",
   "metadata": {},
   "outputs": [],
   "source": []
  },
  {
   "cell_type": "code",
   "execution_count": 5,
   "id": "05a161e8-0338-421a-a8b9-96a4b561672c",
   "metadata": {},
   "outputs": [],
   "source": [
    "# 4. Asked by Coditas\n",
    "\n",
    "# Input:\n",
    "# s = \"\"\"name age address\n",
    "# abc 23 sssss\n",
    "# kfg 45 aaaaa\"\"\"\n",
    "\n",
    "# Output:\n",
    "# {\n",
    "#   \"name\":[\"abc\",\"kfg\"],\n",
    "#   \"age\":[23,45],\n",
    "#   \"address\":[\"sssss\", \"aaaaa\"]\n",
    "# }"
   ]
  },
  {
   "cell_type": "code",
   "execution_count": 6,
   "id": "f35beb06-e3f7-4b94-b8d3-82c959d77fca",
   "metadata": {},
   "outputs": [],
   "source": [
    "# Approach\n",
    "# 1. Split string by lines\n",
    "# 2. Take elements in first line as header\n",
    "# 3. Store the header in dict with value as empty list\n",
    "# 4. iterate over remaining lines in splitted list\n",
    "#     - For rach line. take elements in line as value\n",
    "#     - use zip to enumerate headers and values\n",
    "#         - append the value to respective numerated/zipped header\n",
    "# 5. return the result dict"
   ]
  },
  {
   "cell_type": "code",
   "execution_count": 11,
   "id": "f90ab474-7a75-470c-a832-35871e21a31d",
   "metadata": {},
   "outputs": [],
   "source": [
    "def read_string(s):\n",
    "    s_lines = s.splitlines()\n",
    "    headers = s_lines[0].split()\n",
    "\n",
    "    result = {\n",
    "        item : [] for item in headers\n",
    "    }\n",
    "\n",
    "    for line in s_lines[1:]:\n",
    "        data = line.split()\n",
    "\n",
    "        for header, value in zip(headers, data):\n",
    "            result[header].append(\n",
    "                value if not value.isdigit() else int(value)\n",
    "            )\n",
    "\n",
    "    return result"
   ]
  },
  {
   "cell_type": "code",
   "execution_count": 12,
   "id": "47410e08-5e85-4119-8943-09212b319244",
   "metadata": {},
   "outputs": [
    {
     "name": "stdout",
     "output_type": "stream",
     "text": [
      "{'name': ['abc', 'kfg'], 'age': [23, 45], 'address': ['sssss', 'aaaaa']}\n"
     ]
    }
   ],
   "source": [
    "s = \"\"\"name age address\n",
    "abc 23 sssss\n",
    "kfg 45 aaaaa\"\"\"\n",
    "\n",
    "print(read_string(s))"
   ]
  },
  {
   "cell_type": "code",
   "execution_count": null,
   "id": "e90aa7f7-cf08-43b6-bae4-3bb28ac6a315",
   "metadata": {},
   "outputs": [],
   "source": []
  }
 ],
 "metadata": {
  "kernelspec": {
   "display_name": "Python 3 (ipykernel)",
   "language": "python",
   "name": "python3"
  },
  "language_info": {
   "codemirror_mode": {
    "name": "ipython",
    "version": 3
   },
   "file_extension": ".py",
   "mimetype": "text/x-python",
   "name": "python",
   "nbconvert_exporter": "python",
   "pygments_lexer": "ipython3",
   "version": "3.10.11"
  }
 },
 "nbformat": 4,
 "nbformat_minor": 5
}
